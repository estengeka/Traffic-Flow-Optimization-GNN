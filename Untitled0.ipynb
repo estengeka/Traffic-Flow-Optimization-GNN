%pip install networkx torch_geometric pandas numpy
import torch
    import torch.nn as nn
    import torch.optim as optim
    from torch_geometric.nn import GCNConv
    from torch_geometric.data import Data

    class TrafficGCN(nn.Module):
        def __init__(self, in_channels, hidden_channels, out_channels):
            super(TrafficGCN, self).__init__()
            self.conv1 = GCNConv(in_channels, hidden_channels)
            self.conv2 = GCNConv(hidden_channels, out_channels)

        def forward(self, data):
            x, edge_index = data.x, data.edge_index
            x = self.conv1(x, edge_index)
            x = torch.relu(x)
            x = self.conv2(x, edge_index)
            return x

    # Model instantiation and setup (assuming channel sizes are defined)
    # model = TrafficGCN(in_channels, hidden_channels, out_channels)
    # criterion = nn.MSELoss()
    # optimizer = optim.Adam(model.parameters(), lr=0.01)
     

    # Example evaluation code structure
    # model.eval()
    # with torch.no_grad():
    #     predictions = model(test_data)
    #
    # mse = mean_squared_error(y_test_np, predictions_np)
    # rmse = np.sqrt(mse)
    # mae = mean_absolute_error(y_test_np, predictions_np)
    #
    # print(f"MSE: {mse:.4f}, RMSE: {rmse:.4f}, MAE: {mae:.4f}")
     
import networkx as nx
import matplotlib.pyplot as plt
import torch
import osmnx as ox # Import osmnx
import matplotlib.colors as mcolors # Import for colormaps

# Assume edge_index_test, num_nodes are available from previous steps for dummy data visualization
# Assume G_nyc and G_kampala are available from the osmnx data sourcing step

# --- Visualize Conceptual Road Network Structure (Dummy Data) ---
# This visualization uses dummy data and does not include a map background
print("Generating conceptual road network structure visualization (dummy data)...")
# Convert the dummy edge_index (PyTorch tensor) to a list of edges
edges = edge_index_test.t().tolist()
# Create a NetworkX graph from the edges
G_dummy = nx.Graph()
G_dummy.add_edges_from(edges)
# Add nodes that might not have edges but are part of the num_nodes
G_dummy.add_nodes_from(range(num_nodes))

plt.figure(figsize=(10, 8))
pos_dummy = nx.spring_layout(G_dummy, seed=42) # Use a fixed seed for reproducible layout
nx.draw(G_dummy, pos_dummy, with_labels=False, node_size=30, edge_color='gray', node_color='skyblue')
plt.title("Conceptual Road Network Structure (Dummy Data - No Map)")
plt.show()


# --- Visualize Conceptual Traffic Congestion (Dummy Data) ---
# This visualization uses dummy data and does not include a map background
print("\nGenerating conceptual traffic congestion visualization (dummy data)...")
# Assume edge_congestion is available from the previous step

congestion_values = [edge_congestion[tuple(sorted(edge))] for edge in G_dummy.edges()] # Use G_dummy here

plt.figure(figsize=(10, 8))
ax_dummy_congestion = plt.gca() # Get the current axes
cmap = plt.cm.Reds # Red for high congestion
norm = plt.Normalize(vmin=0, vmax=1) # Normalize congestion values to colormap range

nx.draw(G_dummy, pos_dummy, with_labels=False, node_size=30, edge_color=congestion_values, width=2, edge_cmap=cmap, edge_vmin=0, edge_vmax=1, node_color='skyblue', ax=ax_dummy_congestion)

sm_dummy = plt.cm.ScalarMappable(cmap=cmap, norm=norm)
sm_dummy.set_array([]) # dummy array for the color bar
cbar_dummy = plt.colorbar(sm_dummy, ax=ax_dummy_congestion) # Pass the axes object to colorbar
cbar_dummy.set_label("Conceptual Congestion Level (Dummy)")

plt.title("Conceptual Traffic Congestion Visualization (Dummy Data - No Map)")
plt.show()


# --- Visualize Road Networks with Map Background and Colored Features (Real Cities - if graphs loaded) ---
print("\nAttempting to visualize real city road networks with map background and colored features...")

# Define a colormap for road types
# A simple mapping of common highway types to colors
highway_colors = {
    'primary': '#ffbe7f',
    'secondary': '#ffda9c',
    'tertiary': '#f0f0f0',
    'residential': '#c7c7c7',
    'living_street': '#c7c7c7',
    'service': '#c7c7c7',
    'unclassified': '#f0f0f0',
    'motorway': '#e5e5e5',
    'trunk': '#e5e5e5',
    'footway': '#999999',
    'cycleway': '#999999',
    'path': '#999999',
    # Add more as needed, default color for others
}
default_color = '#999999' # Grey for unhandled types


try:
    # Check if graphs for NYC and Kampala were successfully loaded in previous steps
    if 'G_nyc' in locals() and G_nyc is not None:
        print("\nGenerating visualization for New York City road network with map and colored features...")

        # Get edge colors based on highway type, handling potential lists
        edge_colors_nyc = []
        for u, v, data in G_nyc.edges(data=True):
            highway_type = data.get('highway')
            if isinstance(highway_type, list):
                # If it's a list, take the first element (or handle as needed)
                highway_type = highway_type[0] if highway_type else None
            edge_colors_nyc.append(highway_colors.get(highway_type, default_color))


        fig, ax = ox.plot_graph(G_nyc, node_size=0, edge_color=edge_colors_nyc, bgcolor="#FFFFFF", edge_linewidth=0.5, show=False, close=False)
        ax.set_title("New York City Road Network by Type")
        plt.show()

        # Conceptual Color Key
        print("\nConceptual Color Key for NYC Road Types:")
        for hwy_type, color in highway_colors.items():
             print(f"- {hwy_type}: Color (conceptually represented by the map colors)")


    else:
        print("NYC graph (G_nyc) not found. Skipping NYC map visualization with colored features.")

    if 'G_kampala' in locals() and G_kampala is not None:
        print("\nGenerating visualization for Kampala road network with map and colored features...")

        # Get edge colors based on highway type, handling potential lists
        edge_colors_kampala = []
        for u, v, data in G_kampala.edges(data=True):
            highway_type = data.get('highway')
            if isinstance(highway_type, list):
                # If it's a list, take the first element (or handle as needed)
                highway_type = highway_type[0] if highway_type else None
            edge_colors_kampala.append(highway_colors.get(highway_type, default_color))


        fig, ax = ox.plot_graph(G_kampala, node_size=0, edge_color=edge_colors_kampala, bgcolor="#FFFFFF", edge_linewidth=0.5, show=False, close=False)
        ax.set_title("Kampala Road Network by Type")
        plt.show()

        print("\nConceptual Color Key for Kampala Road Types:")
        for hwy_type, color in highway_colors.items():
             print(f"- {hwy_type}: Color (conceptually represented by the map colors)")


    else:
        print("Kampala graph (G_kampala) not found. Skipping Kampala map visualization with colored features.")

except Exception as e:
    print(f"An error occurred during real city network visualization with colored features: {e}")

print("\nExplanation of Visualizations:")
print("The first two plots show the conceptual road network structure and congestion using dummy data and do not have a map background.")
print("The subsequent visualizations (if successful) show the actual road networks of New York City and Kampala downloaded using osmnx, with a map background.")
print("In the real city plots, edges are colored based on their 'highway' type from OpenStreetMap data to distinguish different road categories.")
print("A conceptual color key is printed, listing the road types present. A formal legend within the plot would require additional matplotlib code.")
print("In a real application, traffic congestion data could also be mapped onto the edges using a colormap, as shown in the dummy data visualization.")
     

import torch
import torch.nn as nn
from torch_geometric.data import Data
import numpy as np
from sklearn.metrics import mean_squared_error, mean_absolute_error

# 1. Create a dummy test dataset for demonstration
# In a real scenario, this would be loaded from preprocessed data
num_nodes = 100 # Example number of nodes (intersections/road segments)
num_test_samples = 10 # Number of different traffic scenarios/time steps for testing

# Dummy features (e.g., current speed normalized) - shape (num_nodes, in_channels)
x_test = torch.randn(num_nodes, in_channels)

# Dummy edge_index (representing road connections) - shape (2, num_edges)
# Create a simple random graph for demonstration
num_edges = 200
edge_index_test = torch.randint(0, num_nodes, (2, num_edges))

# Dummy target congestion values (e.g., future congestion score normalized) - shape (num_nodes, out_channels)
y_test = torch.randn(num_nodes, out_channels)

# Create a Data object for the dummy test data
test_data = Data(x=x_test, edge_index=edge_index_test, y=y_test)

# Assume 'model' from the previous step is available in the environment
# If not, re-instantiate a dummy model
try:
    model
except NameError:
    print("Model not found, creating a dummy model for evaluation.")
    from torch_geometric.nn import GCNConv
    class TrafficGCN(nn.Module):
        def __init__(self, in_channels, hidden_channels, out_channels):
            super(TrafficGCN, self).__init__()
            self.conv1 = GCNConv(in_channels, hidden_channels)
            self.conv2 = GCNConv(hidden_channels, out_channels)
        def forward(self, data):
            x, edge_index = data.x, data.edge_index
            x = self.conv1(x, edge_index)
            x = torch.relu(x)
            x = self.conv2(x, edge_index)
            return x
    # Assuming in_channels, hidden_channels, out_channels are defined from previous steps
    # If not, define them here
    try:
        in_channels, hidden_channels, out_channels
    except NameError:
        in_channels = 1
        hidden_channels = 16
        out_channels = 1
        print(f"Using default channel sizes: in={in_channels}, hidden={hidden_channels}, out={out_channels}")

    model = TrafficGCN(in_channels, hidden_channels, out_channels)
    # Initialize with dummy weights (in a real scenario, this would be a trained model)
    for param in model.parameters():
        if param.requires_grad:
            nn.init.xavier_uniform_(param)
    print("Dummy model created and initialized.")


# 2. Put the GNN model in evaluation mode
model.eval()
print("\nModel set to evaluation mode.")

# 3. Use the test dataset to get predictions from the model
with torch.no_grad(): # Disable gradient calculation for inference
    predictions = model(test_data)

print(f"\nShape of predictions: {predictions.shape}")
print(f"Shape of actual values (y_test): {y_test.shape}")

# 4. Calculate relevant metrics (MSE, RMSE, MAE)
# Convert tensors to numpy arrays for scikit-learn metrics
predictions_np = predictions.numpy()
y_test_np = y_test.numpy()

mse = mean_squared_error(y_test_np, predictions_np)
rmse = np.sqrt(mse)
mae = mean_absolute_error(y_test_np, predictions_np)

print(f"\nModel Evaluation Metrics:")
print(f"Mean Squared Error (MSE): {mse:.4f}")
print(f"Root Mean Squared Error (RMSE): {rmse:.4f}")
print(f"Mean Absolute Error (MAE): {mae:.4f}")

# 5. Analyze the calculated metrics (dummy analysis as data is random)
print("\nAnalysis of GNN Model Performance:")
print("Based on the calculated metrics:")
print(f"- MSE ({mse:.4f}): Measures the average squared difference between predicted and actual values. Lower is better.")
print(f"- RMSE ({rmse:.4f}): The square root of MSE, provides error in the same units as the predictions/targets. Lower is better.")
print(f"- MAE ({mae:.4f}): Measures the average absolute difference between predicted and actual values. Less sensitive to outliers than MSE/RMSE. Lower is better.")
print("\nNote: These results are based on dummy random data. Real evaluation requires actual traffic graph data.")

# 7. Discuss potential impact of optimization (based on hypothetical model performance)
print("\nDiscussion on Potential Impact of Optimization Strategy:")
print("Assuming the GNN model could accurately predict traffic congestion based on real data (indicated by low MSE/RMSE/MAE on a real test set),")
print("this predictive capability is crucial for an effective optimization strategy.")
print("If the model can reliably forecast where and when congestion will occur,")
print("an optimization algorithm could use this information to:")
print("- Adjust traffic signal timings proactively to smooth traffic flow.")
print("- Suggest optimal routes to drivers to avoid predicted bottlenecks.")
"- Potentially reduce average travel times, decrease the number of stops, and lower fuel consumption/emissions."
print("The better the GNN's predictions, the more informed and effective the optimization decisions would be.")
print("While simulation was not performed, a well-performing predictive model is the foundation for successful traffic flow optimization.")
     

%pip install osmnx


import requests
import osmnx as ox
import matplotlib.pyplot as plt

# --- Data Sourcing for New York City ---

print("Attempting to source data for New York City...")

# Example 1: Accessing NYC OpenData (conceptual - specific dataset API needed)
# This is a placeholder. You would need to find a specific traffic data API endpoint on NYC OpenData.
nyc_traffic_api_url = "https://data.cityofnewyork.us/resource/YOUR_DATASET_ID.json" # Replace with actual dataset ID
try:
    # This call is illustrative and will likely fail without a valid endpoint and potential authentication
    # response = requests.get(nyc_traffic_api_url, params={'limit': 5}) # Example parameters
    # if response.status_code == 200:
    #     nyc_data_sample = response.json()
    #     print(f"Successfully accessed NYC OpenData (sample): {nyc_data_sample[:2]}")
    # else:
    #     print(f"Failed to access NYC OpenData. Status code: {response.status_code}")
    print("Skipping direct API call to NYC OpenData as a specific endpoint needs to be identified and may require authentication.")
    print("Refer to the NYC OpenData website for specific dataset APIs:")
    print("https://data.cityofnewyork.us/")

except requests.exceptions.RequestException as e:
    print(f"An error occurred while trying to access NYC OpenData: {e}")

# Example 2: Downloading Road Network Data for NYC using osmnx
print("\nDownloading road network data for New York City using osmnx...")
try:
    # Download a graph for a part of Manhattan
    G_nyc = ox.graph_from_place("Manhattan, New York City, USA", network_type="drive")
    print("Successfully downloaded road network data for a part of New York City.")

    # Display basic graph info
    print(f"NYC Graph - Nodes: {G_nyc.number_of_nodes()}, Edges: {G_nyc.number_of_edges()}")

    # Optional: Visualize the downloaded network (can take time for large areas)
    print("Generating visualization for NYC road network (sample)...")
    fig, ax = ox.plot_graph(G_nyc, filepath="nyc_network.png", save=True, show=False, close=True)
    print("NYC road network visualization saved as nyc_network.png")

except Exception as e:
    print(f"An error occurred while trying to download/process NYC road network data: {e}")


# --- Data Sourcing for Kampala ---

print("\nAttempting to source data for Kampala, Uganda...")

# Example 1: Accessing potential local data sources (conceptual)
print("Accessing local data sources for Kampala may require direct contact with municipal authorities or exploring local initiatives.")
print("Publicly available APIs for real-time traffic data might be limited compared to NYC.")

# Example 2: Downloading Road Network Data for Kampala using osmnx
print("\nDownloading road network data for Kampala, Uganda using osmnx...")
try:
    # Download a graph for Kampala
    G_kampala = ox.graph_from_place("Kampala, Uganda", network_type="drive")
    print("Successfully downloaded road network data for Kampala, Uganda.")

    # Display basic graph info
    print(f"Kampala Graph - Nodes: {G_kampala.number_of_nodes()}, Edges: {G_kampala.number_of_edges()}")

    # Optional: Visualize the downloaded network (can take time for large areas)
    print("Generating visualization for Kampala road network...")
    fig, ax = ox.plot_graph(G_kampala, filepath="kampala_network.png", save=True, show=False, close=True)
    print("Kampala road network visualization saved as kampala_network.png")

except Exception as e:
    print(f"An error occurred while trying to download/process Kampala road network data: {e}")

print("\nData sourcing attempts completed. Note that integrating real-time traffic data requires more sophisticated pipelines and access permissions.")
print("The downloaded .png files are conceptual visualizations of the road networks.")
     

# 1. Chosen urban area:
urban_area = "New York City"
print(f"Chosen urban area: {urban_area}")

# 2. Potential sources for real-time or historical traffic data:
traffic_data_sources = [
    "NYC OpenData (historical traffic speed and volume data)",
    "MTA API (real-time transit data, potentially inferring traffic)",
    "Third-party traffic data providers (e.g., HERE Technologies, TomTom - may require licensing)"
]
print("\nPotential sources for real-time or historical traffic data:")
for source in traffic_data_sources:
    print(f"- {source}")

# 3. Potential sources for road network data:
road_network_data_sources = [
    "OpenStreetMap (OSM) - freely available, detailed road network data",
    "NYC Department of Transportation (NYCDOT) - may have official road network maps and data",
    "Tiger/Line Shapefiles (US Census Bureau) - basic road network data for the US"
]
print("\nPotential sources for road network data:")
for source in road_network_data_sources:
    print(f"- {source}")

# 4. Outline of data collection steps:
data_collection_steps = [
    "Identify specific datasets within the chosen sources (e.g., specific NYC OpenData tables for traffic speed).",
    "Use APIs (like MTA API) or download data files (from NYC OpenData, OSM) programmatically.",
    "For OpenStreetMap, use tools like osmnx to download the road network for the specified urban area.",
    "Clean and format the downloaded data consistently."
]
print("\nOutline of data collection steps:")
for step in data_collection_steps:
    print(f"- {step}")

# 5. Preprocessing road network data to create a graph representation:
print("\nPreprocessing road network data to create a graph representation:")
print("Nodes of the graph will represent intersections or points along roads.")
print("Edges of the graph will represent road segments connecting these nodes.")
print("Attributes of the edges could include road length, speed limits, number of lanes.")
print("Libraries like networkx or torch_geometric can be used to build the graph from spatial data.")

# 6. Integrating traffic data into the graph representation:
print("\nIntegrating traffic data into the graph representation:")
print("Traffic flow information (speed, volume, congestion) will be associated with the edges of the graph.")
print("This can be done by matching traffic data records to the corresponding road segments (edges) based on location and time.")
print("Traffic data can be represented as edge attributes that change over time (for real-time or historical snapshots).")
print("For historical data, we might create time-series attributes for each edge.")

# 7. Potential challenges and how to address them:
challenges = {
    "Data availability and consistency across different sources": "Prioritize reliable sources and develop data cleaning and merging procedures.",
    "Matching traffic data to road network segments": "Use spatial matching techniques and consider road segment IDs or coordinates.",
    "Handling missing or noisy traffic data": "Employ imputation techniques or smoothing methods.",
    "Scalability with large urban areas": "Consider simplifying the graph or using efficient graph processing libraries.",
    "Real-time data streaming and processing": "Implement data pipelines for continuous data ingestion and processing."
}
print("\nPotential challenges and how to address them:")
for challenge, solution in challenges.items():
    print(f"- {challenge}: {solution}")
     
